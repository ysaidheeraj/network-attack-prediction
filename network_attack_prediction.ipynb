{
 "cells": [
  {
   "attachments": {},
   "cell_type": "markdown",
   "metadata": {},
   "source": [
    "## Comparative analysis of network attack prediction using machine learning and deep learning approaches"
   ]
  },
  {
   "attachments": {},
   "cell_type": "markdown",
   "metadata": {},
   "source": [
    "## Problem Statement"
   ]
  },
  {
   "attachments": {},
   "cell_type": "markdown",
   "metadata": {},
   "source": [
    "Cyber-adversaries are becoming more sophisticated in their efforts to avoid detection, and many modern malware tools are already incorporating new ways to bypass antivirus and other threat detection measures. Software to detect network attacks protects a computer network from unauthorized users, including perhaps insiders. We need new methods to find out the attacks.\n",
    "This is a multi-class classification problem. The given dataset contains 41 feature columns and 1 label column. The task is to classify the data into 5 types of network attacks, namely:-\n",
    "<br /><br />\n",
    "\n",
    "ipsweep probe <br />\n",
    "back dos <br />\n",
    "satan probe <br />\n",
    "portsweep probe <br />\n",
    "normal<br />"
   ]
  },
  {
   "attachments": {},
   "cell_type": "markdown",
   "metadata": {},
   "source": [
    "<b>ipsweep attack</b>: IP sweep also known as ICMP sweep attack occurs when the attacker sends ICMP(Internet Control Message Protocol) echo requests to multiple destination addresses. If a target host replies to these requests, the reply reveals the targets IP address to the attacker. IP sweep is aimed at determining which range of IP addresses map to live hosts. <br /> <br />\n",
    "\n",
    "<b>satan probe</b>: SATAN is a historical vulnerability scanner that was developed in the 1990s by Dan Farmer and Wietse Venema. It was designed to assess the security of networked systems by scanning for known vulnerabilities and misconfigurations. SATAN provided a web-based interface to display the results of its scans and offered recommendations for remediation.<br /> <br />\n",
    "\n",
    "<b>portsweep probe</b>: A portsweep attack is a network reconnaissance technique used by malicious actors to scan a range of network ports on multiple target systems. The objective is to identify which ports are open and potentially vulnerable to exploitation.<br /> <br />\n"
   ]
  },
  {
   "attachments": {},
   "cell_type": "markdown",
   "metadata": {},
   "source": [
    "## Processing the input"
   ]
  },
  {
   "cell_type": "code",
   "execution_count": 28,
   "metadata": {},
   "outputs": [],
   "source": [
    "import pandas as pd\n",
    "import numpy as np\n",
    "\n",
    "# Visualisation libraries\n",
    "import seaborn as sns\n",
    "import plotly.graph_objects as go\n",
    "import plotly.express as px\n",
    "import matplotlib.pyplot as plt\n",
    "plt.style.use(\"fivethirtyeight\")\n",
    "\n",
    "# For Garbage collection\n",
    "import gc\n",
    "\n",
    "# For hyperparam tuning\n",
    "from sklearn.model_selection import GridSearchCV\n",
    "\n",
    "# Data preprocessing\n",
    "from sklearn.feature_selection import VarianceThreshold\n",
    "from sklearn.model_selection import train_test_split\n",
    "\n",
    "# Machine Learning models\n",
    "from sklearn.linear_model import LogisticRegression\n",
    "from sklearn.svm import SVC\n",
    "from sklearn.tree import DecisionTreeClassifier\n",
    "from sklearn.ensemble import RandomForestClassifier\n",
    "import xgboost as xgb\n",
    "from sklearn.neighbors import KNeighborsClassifier\n",
    "\n",
    "# Ignore warnings\n",
    "import warnings\n",
    "warnings.filterwarnings(\"ignore\")\n",
    "\n",
    "# Classification report\n",
    "from sklearn.metrics import classification_report\n",
    "\n",
    "# Tensorflow and Keras\n",
    "from keras.models import Sequential\n",
    "from keras.layers import Dense\n",
    "#For early stopping\n",
    "from keras.callbacks import EarlyStopping, ModelCheckpoint"
   ]
  },
  {
   "cell_type": "code",
   "execution_count": 5,
   "metadata": {},
   "outputs": [
    {
     "data": {
      "text/html": [
       "<div>\n",
       "<style scoped>\n",
       "    .dataframe tbody tr th:only-of-type {\n",
       "        vertical-align: middle;\n",
       "    }\n",
       "\n",
       "    .dataframe tbody tr th {\n",
       "        vertical-align: top;\n",
       "    }\n",
       "\n",
       "    .dataframe thead th {\n",
       "        text-align: right;\n",
       "    }\n",
       "</style>\n",
       "<table border=\"1\" class=\"dataframe\">\n",
       "  <thead>\n",
       "    <tr style=\"text-align: right;\">\n",
       "      <th></th>\n",
       "      <th>Id</th>\n",
       "      <th>duration</th>\n",
       "      <th>protocol_type</th>\n",
       "      <th>service</th>\n",
       "      <th>flag</th>\n",
       "      <th>src_bytes</th>\n",
       "      <th>dst_bytes</th>\n",
       "      <th>land</th>\n",
       "      <th>wrong_fragment</th>\n",
       "      <th>urgent</th>\n",
       "      <th>...</th>\n",
       "      <th>dst_host_srv_count</th>\n",
       "      <th>dst_host_same_srv_rate</th>\n",
       "      <th>dst_host_diff_srv_rate</th>\n",
       "      <th>dst_host_same_src_port_rate</th>\n",
       "      <th>dst_host_srv_diff_host_rate</th>\n",
       "      <th>dst_host_serror_rate</th>\n",
       "      <th>dst_host_srv_serror_rate</th>\n",
       "      <th>dst_host_rerror_rate</th>\n",
       "      <th>dst_host_srv_rerror_rate</th>\n",
       "      <th>type_of_attack</th>\n",
       "    </tr>\n",
       "  </thead>\n",
       "  <tbody>\n",
       "    <tr>\n",
       "      <th>0</th>\n",
       "      <td>1</td>\n",
       "      <td>0</td>\n",
       "      <td>tcp</td>\n",
       "      <td>other</td>\n",
       "      <td>REJ</td>\n",
       "      <td>0</td>\n",
       "      <td>0</td>\n",
       "      <td>0</td>\n",
       "      <td>0</td>\n",
       "      <td>0</td>\n",
       "      <td>...</td>\n",
       "      <td>1</td>\n",
       "      <td>0.0</td>\n",
       "      <td>1.0</td>\n",
       "      <td>0.00</td>\n",
       "      <td>0.00</td>\n",
       "      <td>0.00</td>\n",
       "      <td>0.0</td>\n",
       "      <td>1.00</td>\n",
       "      <td>1.00</td>\n",
       "      <td>satan.</td>\n",
       "    </tr>\n",
       "    <tr>\n",
       "      <th>1</th>\n",
       "      <td>2</td>\n",
       "      <td>0</td>\n",
       "      <td>tcp</td>\n",
       "      <td>http</td>\n",
       "      <td>SF</td>\n",
       "      <td>54540</td>\n",
       "      <td>8314</td>\n",
       "      <td>0</td>\n",
       "      <td>0</td>\n",
       "      <td>0</td>\n",
       "      <td>...</td>\n",
       "      <td>178</td>\n",
       "      <td>1.0</td>\n",
       "      <td>0.0</td>\n",
       "      <td>0.01</td>\n",
       "      <td>0.00</td>\n",
       "      <td>0.00</td>\n",
       "      <td>0.0</td>\n",
       "      <td>0.01</td>\n",
       "      <td>0.01</td>\n",
       "      <td>back.</td>\n",
       "    </tr>\n",
       "    <tr>\n",
       "      <th>2</th>\n",
       "      <td>3</td>\n",
       "      <td>0</td>\n",
       "      <td>tcp</td>\n",
       "      <td>other</td>\n",
       "      <td>REJ</td>\n",
       "      <td>0</td>\n",
       "      <td>0</td>\n",
       "      <td>0</td>\n",
       "      <td>0</td>\n",
       "      <td>0</td>\n",
       "      <td>...</td>\n",
       "      <td>1</td>\n",
       "      <td>0.0</td>\n",
       "      <td>1.0</td>\n",
       "      <td>0.00</td>\n",
       "      <td>0.00</td>\n",
       "      <td>0.00</td>\n",
       "      <td>0.0</td>\n",
       "      <td>1.00</td>\n",
       "      <td>1.00</td>\n",
       "      <td>satan.</td>\n",
       "    </tr>\n",
       "    <tr>\n",
       "      <th>3</th>\n",
       "      <td>4</td>\n",
       "      <td>0</td>\n",
       "      <td>icmp</td>\n",
       "      <td>eco_i</td>\n",
       "      <td>SF</td>\n",
       "      <td>8</td>\n",
       "      <td>0</td>\n",
       "      <td>0</td>\n",
       "      <td>0</td>\n",
       "      <td>0</td>\n",
       "      <td>...</td>\n",
       "      <td>86</td>\n",
       "      <td>1.0</td>\n",
       "      <td>0.0</td>\n",
       "      <td>1.00</td>\n",
       "      <td>0.51</td>\n",
       "      <td>0.00</td>\n",
       "      <td>0.0</td>\n",
       "      <td>0.00</td>\n",
       "      <td>0.00</td>\n",
       "      <td>ipsweep.</td>\n",
       "    </tr>\n",
       "    <tr>\n",
       "      <th>4</th>\n",
       "      <td>5</td>\n",
       "      <td>0</td>\n",
       "      <td>tcp</td>\n",
       "      <td>other</td>\n",
       "      <td>REJ</td>\n",
       "      <td>0</td>\n",
       "      <td>0</td>\n",
       "      <td>0</td>\n",
       "      <td>0</td>\n",
       "      <td>0</td>\n",
       "      <td>...</td>\n",
       "      <td>1</td>\n",
       "      <td>0.0</td>\n",
       "      <td>1.0</td>\n",
       "      <td>0.00</td>\n",
       "      <td>0.00</td>\n",
       "      <td>0.07</td>\n",
       "      <td>0.0</td>\n",
       "      <td>0.93</td>\n",
       "      <td>1.00</td>\n",
       "      <td>satan.</td>\n",
       "    </tr>\n",
       "  </tbody>\n",
       "</table>\n",
       "<p>5 rows × 43 columns</p>\n",
       "</div>"
      ],
      "text/plain": [
       "   Id  duration protocol_type service flag  src_bytes  dst_bytes  land  \\\n",
       "0   1         0           tcp   other  REJ          0          0     0   \n",
       "1   2         0           tcp    http   SF      54540       8314     0   \n",
       "2   3         0           tcp   other  REJ          0          0     0   \n",
       "3   4         0          icmp   eco_i   SF          8          0     0   \n",
       "4   5         0           tcp   other  REJ          0          0     0   \n",
       "\n",
       "   wrong_fragment  urgent  ...  dst_host_srv_count  dst_host_same_srv_rate  \\\n",
       "0               0       0  ...                   1                     0.0   \n",
       "1               0       0  ...                 178                     1.0   \n",
       "2               0       0  ...                   1                     0.0   \n",
       "3               0       0  ...                  86                     1.0   \n",
       "4               0       0  ...                   1                     0.0   \n",
       "\n",
       "   dst_host_diff_srv_rate  dst_host_same_src_port_rate  \\\n",
       "0                     1.0                         0.00   \n",
       "1                     0.0                         0.01   \n",
       "2                     1.0                         0.00   \n",
       "3                     0.0                         1.00   \n",
       "4                     1.0                         0.00   \n",
       "\n",
       "   dst_host_srv_diff_host_rate  dst_host_serror_rate  \\\n",
       "0                         0.00                  0.00   \n",
       "1                         0.00                  0.00   \n",
       "2                         0.00                  0.00   \n",
       "3                         0.51                  0.00   \n",
       "4                         0.00                  0.07   \n",
       "\n",
       "   dst_host_srv_serror_rate  dst_host_rerror_rate  dst_host_srv_rerror_rate  \\\n",
       "0                       0.0                  1.00                      1.00   \n",
       "1                       0.0                  0.01                      0.01   \n",
       "2                       0.0                  1.00                      1.00   \n",
       "3                       0.0                  0.00                      0.00   \n",
       "4                       0.0                  0.93                      1.00   \n",
       "\n",
       "   type_of_attack  \n",
       "0          satan.  \n",
       "1           back.  \n",
       "2          satan.  \n",
       "3        ipsweep.  \n",
       "4          satan.  \n",
       "\n",
       "[5 rows x 43 columns]"
      ]
     },
     "execution_count": 5,
     "metadata": {},
     "output_type": "execute_result"
    }
   ],
   "source": [
    "# Reading the input\n",
    "\n",
    "input_df = pd.read_csv(\"train.csv\")\n",
    "input_df.head()"
   ]
  },
  {
   "cell_type": "code",
   "execution_count": 6,
   "metadata": {},
   "outputs": [],
   "source": [
    "#Reading the test dataset\n",
    "X_test = pd.read_csv(\"test.csv\")"
   ]
  },
  {
   "attachments": {},
   "cell_type": "markdown",
   "metadata": {},
   "source": [
    "## Exploratory Data Analysis"
   ]
  },
  {
   "cell_type": "code",
   "execution_count": 19,
   "metadata": {},
   "outputs": [
    {
     "data": {
      "text/plain": [
       "(12989, 43)"
      ]
     },
     "execution_count": 19,
     "metadata": {},
     "output_type": "execute_result"
    }
   ],
   "source": [
    "input_df.shape"
   ]
  },
  {
   "cell_type": "code",
   "execution_count": 20,
   "metadata": {},
   "outputs": [
    {
     "data": {
      "text/plain": [
       "Index(['Id', 'duration', 'protocol_type', 'service', 'flag', 'src_bytes',\n",
       "       'dst_bytes', 'land', 'wrong_fragment', 'urgent', 'hot',\n",
       "       'num_failed_logins', 'logged_in', 'num_compromised', 'root_shell',\n",
       "       'su_attempted', 'num_root', 'num_file_creations', 'num_shells',\n",
       "       'num_access_files', 'num_outbound_cmds', 'is_host_login',\n",
       "       'is_guest_login', 'count', 'srv_count', 'serror_rate',\n",
       "       'srv_serror_rate', 'rerror_rate', 'srv_rerror_rate', 'same_srv_rate',\n",
       "       'diff_srv_rate', 'srv_diff_host_rate', 'dst_host_count',\n",
       "       'dst_host_srv_count', 'dst_host_same_srv_rate',\n",
       "       'dst_host_diff_srv_rate', 'dst_host_same_src_port_rate',\n",
       "       'dst_host_srv_diff_host_rate', 'dst_host_serror_rate',\n",
       "       'dst_host_srv_serror_rate', 'dst_host_rerror_rate',\n",
       "       'dst_host_srv_rerror_rate', 'type_of_attack'],\n",
       "      dtype='object')"
      ]
     },
     "execution_count": 20,
     "metadata": {},
     "output_type": "execute_result"
    }
   ],
   "source": [
    "input_df.columns"
   ]
  },
  {
   "cell_type": "code",
   "execution_count": 21,
   "metadata": {},
   "outputs": [
    {
     "data": {
      "text/plain": [
       "Id                               int64\n",
       "duration                         int64\n",
       "protocol_type                   object\n",
       "service                         object\n",
       "flag                            object\n",
       "src_bytes                        int64\n",
       "dst_bytes                        int64\n",
       "land                             int64\n",
       "wrong_fragment                   int64\n",
       "urgent                           int64\n",
       "hot                              int64\n",
       "num_failed_logins                int64\n",
       "logged_in                        int64\n",
       "num_compromised                  int64\n",
       "root_shell                       int64\n",
       "su_attempted                     int64\n",
       "num_root                         int64\n",
       "num_file_creations               int64\n",
       "num_shells                       int64\n",
       "num_access_files                 int64\n",
       "num_outbound_cmds                int64\n",
       "is_host_login                    int64\n",
       "is_guest_login                   int64\n",
       "count                            int64\n",
       "srv_count                        int64\n",
       "serror_rate                    float64\n",
       "srv_serror_rate                float64\n",
       "rerror_rate                    float64\n",
       "srv_rerror_rate                float64\n",
       "same_srv_rate                  float64\n",
       "diff_srv_rate                  float64\n",
       "srv_diff_host_rate             float64\n",
       "dst_host_count                   int64\n",
       "dst_host_srv_count               int64\n",
       "dst_host_same_srv_rate         float64\n",
       "dst_host_diff_srv_rate         float64\n",
       "dst_host_same_src_port_rate    float64\n",
       "dst_host_srv_diff_host_rate    float64\n",
       "dst_host_serror_rate           float64\n",
       "dst_host_srv_serror_rate       float64\n",
       "dst_host_rerror_rate           float64\n",
       "dst_host_srv_rerror_rate       float64\n",
       "type_of_attack                  object\n",
       "dtype: object"
      ]
     },
     "execution_count": 21,
     "metadata": {},
     "output_type": "execute_result"
    }
   ],
   "source": [
    "input_df.dtypes"
   ]
  },
  {
   "attachments": {},
   "cell_type": "markdown",
   "metadata": {},
   "source": [
    "### Distribution of target variable"
   ]
  },
  {
   "cell_type": "code",
   "execution_count": 22,
   "metadata": {},
   "outputs": [
    {
     "data": {
      "text/plain": [
       "ipsweep.      5318\n",
       "satan.        3711\n",
       "portsweep.    1999\n",
       "back.         1400\n",
       "normal.        561\n",
       "Name: type_of_attack, dtype: int64"
      ]
     },
     "execution_count": 22,
     "metadata": {},
     "output_type": "execute_result"
    }
   ],
   "source": [
    "target_distrib = input_df['type_of_attack'].value_counts()\n",
    "target_distrib"
   ]
  },
  {
   "cell_type": "code",
   "execution_count": 23,
   "metadata": {},
   "outputs": [
    {
     "data": {
      "application/vnd.plotly.v1+json": {
       "config": {
        "plotlyServerURL": "https://plot.ly"
       },
       "data": [
        {
         "insidetextorientation": "radial",
         "labels": [
          "ipsweep.",
          "satan.",
          "portsweep.",
          "back.",
          "normal."
         ],
         "textinfo": "label+percent",
         "type": "pie",
         "values": [
          5318,
          3711,
          1999,
          1400,
          561
         ]
        }
       ],
       "layout": {
        "template": {
         "data": {
          "bar": [
           {
            "error_x": {
             "color": "#2a3f5f"
            },
            "error_y": {
             "color": "#2a3f5f"
            },
            "marker": {
             "line": {
              "color": "#E5ECF6",
              "width": 0.5
             },
             "pattern": {
              "fillmode": "overlay",
              "size": 10,
              "solidity": 0.2
             }
            },
            "type": "bar"
           }
          ],
          "barpolar": [
           {
            "marker": {
             "line": {
              "color": "#E5ECF6",
              "width": 0.5
             },
             "pattern": {
              "fillmode": "overlay",
              "size": 10,
              "solidity": 0.2
             }
            },
            "type": "barpolar"
           }
          ],
          "carpet": [
           {
            "aaxis": {
             "endlinecolor": "#2a3f5f",
             "gridcolor": "white",
             "linecolor": "white",
             "minorgridcolor": "white",
             "startlinecolor": "#2a3f5f"
            },
            "baxis": {
             "endlinecolor": "#2a3f5f",
             "gridcolor": "white",
             "linecolor": "white",
             "minorgridcolor": "white",
             "startlinecolor": "#2a3f5f"
            },
            "type": "carpet"
           }
          ],
          "choropleth": [
           {
            "colorbar": {
             "outlinewidth": 0,
             "ticks": ""
            },
            "type": "choropleth"
           }
          ],
          "contour": [
           {
            "colorbar": {
             "outlinewidth": 0,
             "ticks": ""
            },
            "colorscale": [
             [
              0,
              "#0d0887"
             ],
             [
              0.1111111111111111,
              "#46039f"
             ],
             [
              0.2222222222222222,
              "#7201a8"
             ],
             [
              0.3333333333333333,
              "#9c179e"
             ],
             [
              0.4444444444444444,
              "#bd3786"
             ],
             [
              0.5555555555555556,
              "#d8576b"
             ],
             [
              0.6666666666666666,
              "#ed7953"
             ],
             [
              0.7777777777777778,
              "#fb9f3a"
             ],
             [
              0.8888888888888888,
              "#fdca26"
             ],
             [
              1,
              "#f0f921"
             ]
            ],
            "type": "contour"
           }
          ],
          "contourcarpet": [
           {
            "colorbar": {
             "outlinewidth": 0,
             "ticks": ""
            },
            "type": "contourcarpet"
           }
          ],
          "heatmap": [
           {
            "colorbar": {
             "outlinewidth": 0,
             "ticks": ""
            },
            "colorscale": [
             [
              0,
              "#0d0887"
             ],
             [
              0.1111111111111111,
              "#46039f"
             ],
             [
              0.2222222222222222,
              "#7201a8"
             ],
             [
              0.3333333333333333,
              "#9c179e"
             ],
             [
              0.4444444444444444,
              "#bd3786"
             ],
             [
              0.5555555555555556,
              "#d8576b"
             ],
             [
              0.6666666666666666,
              "#ed7953"
             ],
             [
              0.7777777777777778,
              "#fb9f3a"
             ],
             [
              0.8888888888888888,
              "#fdca26"
             ],
             [
              1,
              "#f0f921"
             ]
            ],
            "type": "heatmap"
           }
          ],
          "heatmapgl": [
           {
            "colorbar": {
             "outlinewidth": 0,
             "ticks": ""
            },
            "colorscale": [
             [
              0,
              "#0d0887"
             ],
             [
              0.1111111111111111,
              "#46039f"
             ],
             [
              0.2222222222222222,
              "#7201a8"
             ],
             [
              0.3333333333333333,
              "#9c179e"
             ],
             [
              0.4444444444444444,
              "#bd3786"
             ],
             [
              0.5555555555555556,
              "#d8576b"
             ],
             [
              0.6666666666666666,
              "#ed7953"
             ],
             [
              0.7777777777777778,
              "#fb9f3a"
             ],
             [
              0.8888888888888888,
              "#fdca26"
             ],
             [
              1,
              "#f0f921"
             ]
            ],
            "type": "heatmapgl"
           }
          ],
          "histogram": [
           {
            "marker": {
             "pattern": {
              "fillmode": "overlay",
              "size": 10,
              "solidity": 0.2
             }
            },
            "type": "histogram"
           }
          ],
          "histogram2d": [
           {
            "colorbar": {
             "outlinewidth": 0,
             "ticks": ""
            },
            "colorscale": [
             [
              0,
              "#0d0887"
             ],
             [
              0.1111111111111111,
              "#46039f"
             ],
             [
              0.2222222222222222,
              "#7201a8"
             ],
             [
              0.3333333333333333,
              "#9c179e"
             ],
             [
              0.4444444444444444,
              "#bd3786"
             ],
             [
              0.5555555555555556,
              "#d8576b"
             ],
             [
              0.6666666666666666,
              "#ed7953"
             ],
             [
              0.7777777777777778,
              "#fb9f3a"
             ],
             [
              0.8888888888888888,
              "#fdca26"
             ],
             [
              1,
              "#f0f921"
             ]
            ],
            "type": "histogram2d"
           }
          ],
          "histogram2dcontour": [
           {
            "colorbar": {
             "outlinewidth": 0,
             "ticks": ""
            },
            "colorscale": [
             [
              0,
              "#0d0887"
             ],
             [
              0.1111111111111111,
              "#46039f"
             ],
             [
              0.2222222222222222,
              "#7201a8"
             ],
             [
              0.3333333333333333,
              "#9c179e"
             ],
             [
              0.4444444444444444,
              "#bd3786"
             ],
             [
              0.5555555555555556,
              "#d8576b"
             ],
             [
              0.6666666666666666,
              "#ed7953"
             ],
             [
              0.7777777777777778,
              "#fb9f3a"
             ],
             [
              0.8888888888888888,
              "#fdca26"
             ],
             [
              1,
              "#f0f921"
             ]
            ],
            "type": "histogram2dcontour"
           }
          ],
          "mesh3d": [
           {
            "colorbar": {
             "outlinewidth": 0,
             "ticks": ""
            },
            "type": "mesh3d"
           }
          ],
          "parcoords": [
           {
            "line": {
             "colorbar": {
              "outlinewidth": 0,
              "ticks": ""
             }
            },
            "type": "parcoords"
           }
          ],
          "pie": [
           {
            "automargin": true,
            "type": "pie"
           }
          ],
          "scatter": [
           {
            "fillpattern": {
             "fillmode": "overlay",
             "size": 10,
             "solidity": 0.2
            },
            "type": "scatter"
           }
          ],
          "scatter3d": [
           {
            "line": {
             "colorbar": {
              "outlinewidth": 0,
              "ticks": ""
             }
            },
            "marker": {
             "colorbar": {
              "outlinewidth": 0,
              "ticks": ""
             }
            },
            "type": "scatter3d"
           }
          ],
          "scattercarpet": [
           {
            "marker": {
             "colorbar": {
              "outlinewidth": 0,
              "ticks": ""
             }
            },
            "type": "scattercarpet"
           }
          ],
          "scattergeo": [
           {
            "marker": {
             "colorbar": {
              "outlinewidth": 0,
              "ticks": ""
             }
            },
            "type": "scattergeo"
           }
          ],
          "scattergl": [
           {
            "marker": {
             "colorbar": {
              "outlinewidth": 0,
              "ticks": ""
             }
            },
            "type": "scattergl"
           }
          ],
          "scattermapbox": [
           {
            "marker": {
             "colorbar": {
              "outlinewidth": 0,
              "ticks": ""
             }
            },
            "type": "scattermapbox"
           }
          ],
          "scatterpolar": [
           {
            "marker": {
             "colorbar": {
              "outlinewidth": 0,
              "ticks": ""
             }
            },
            "type": "scatterpolar"
           }
          ],
          "scatterpolargl": [
           {
            "marker": {
             "colorbar": {
              "outlinewidth": 0,
              "ticks": ""
             }
            },
            "type": "scatterpolargl"
           }
          ],
          "scatterternary": [
           {
            "marker": {
             "colorbar": {
              "outlinewidth": 0,
              "ticks": ""
             }
            },
            "type": "scatterternary"
           }
          ],
          "surface": [
           {
            "colorbar": {
             "outlinewidth": 0,
             "ticks": ""
            },
            "colorscale": [
             [
              0,
              "#0d0887"
             ],
             [
              0.1111111111111111,
              "#46039f"
             ],
             [
              0.2222222222222222,
              "#7201a8"
             ],
             [
              0.3333333333333333,
              "#9c179e"
             ],
             [
              0.4444444444444444,
              "#bd3786"
             ],
             [
              0.5555555555555556,
              "#d8576b"
             ],
             [
              0.6666666666666666,
              "#ed7953"
             ],
             [
              0.7777777777777778,
              "#fb9f3a"
             ],
             [
              0.8888888888888888,
              "#fdca26"
             ],
             [
              1,
              "#f0f921"
             ]
            ],
            "type": "surface"
           }
          ],
          "table": [
           {
            "cells": {
             "fill": {
              "color": "#EBF0F8"
             },
             "line": {
              "color": "white"
             }
            },
            "header": {
             "fill": {
              "color": "#C8D4E3"
             },
             "line": {
              "color": "white"
             }
            },
            "type": "table"
           }
          ]
         },
         "layout": {
          "annotationdefaults": {
           "arrowcolor": "#2a3f5f",
           "arrowhead": 0,
           "arrowwidth": 1
          },
          "autotypenumbers": "strict",
          "coloraxis": {
           "colorbar": {
            "outlinewidth": 0,
            "ticks": ""
           }
          },
          "colorscale": {
           "diverging": [
            [
             0,
             "#8e0152"
            ],
            [
             0.1,
             "#c51b7d"
            ],
            [
             0.2,
             "#de77ae"
            ],
            [
             0.3,
             "#f1b6da"
            ],
            [
             0.4,
             "#fde0ef"
            ],
            [
             0.5,
             "#f7f7f7"
            ],
            [
             0.6,
             "#e6f5d0"
            ],
            [
             0.7,
             "#b8e186"
            ],
            [
             0.8,
             "#7fbc41"
            ],
            [
             0.9,
             "#4d9221"
            ],
            [
             1,
             "#276419"
            ]
           ],
           "sequential": [
            [
             0,
             "#0d0887"
            ],
            [
             0.1111111111111111,
             "#46039f"
            ],
            [
             0.2222222222222222,
             "#7201a8"
            ],
            [
             0.3333333333333333,
             "#9c179e"
            ],
            [
             0.4444444444444444,
             "#bd3786"
            ],
            [
             0.5555555555555556,
             "#d8576b"
            ],
            [
             0.6666666666666666,
             "#ed7953"
            ],
            [
             0.7777777777777778,
             "#fb9f3a"
            ],
            [
             0.8888888888888888,
             "#fdca26"
            ],
            [
             1,
             "#f0f921"
            ]
           ],
           "sequentialminus": [
            [
             0,
             "#0d0887"
            ],
            [
             0.1111111111111111,
             "#46039f"
            ],
            [
             0.2222222222222222,
             "#7201a8"
            ],
            [
             0.3333333333333333,
             "#9c179e"
            ],
            [
             0.4444444444444444,
             "#bd3786"
            ],
            [
             0.5555555555555556,
             "#d8576b"
            ],
            [
             0.6666666666666666,
             "#ed7953"
            ],
            [
             0.7777777777777778,
             "#fb9f3a"
            ],
            [
             0.8888888888888888,
             "#fdca26"
            ],
            [
             1,
             "#f0f921"
            ]
           ]
          },
          "colorway": [
           "#636efa",
           "#EF553B",
           "#00cc96",
           "#ab63fa",
           "#FFA15A",
           "#19d3f3",
           "#FF6692",
           "#B6E880",
           "#FF97FF",
           "#FECB52"
          ],
          "font": {
           "color": "#2a3f5f"
          },
          "geo": {
           "bgcolor": "white",
           "lakecolor": "white",
           "landcolor": "#E5ECF6",
           "showlakes": true,
           "showland": true,
           "subunitcolor": "white"
          },
          "hoverlabel": {
           "align": "left"
          },
          "hovermode": "closest",
          "mapbox": {
           "style": "light"
          },
          "paper_bgcolor": "white",
          "plot_bgcolor": "#E5ECF6",
          "polar": {
           "angularaxis": {
            "gridcolor": "white",
            "linecolor": "white",
            "ticks": ""
           },
           "bgcolor": "#E5ECF6",
           "radialaxis": {
            "gridcolor": "white",
            "linecolor": "white",
            "ticks": ""
           }
          },
          "scene": {
           "xaxis": {
            "backgroundcolor": "#E5ECF6",
            "gridcolor": "white",
            "gridwidth": 2,
            "linecolor": "white",
            "showbackground": true,
            "ticks": "",
            "zerolinecolor": "white"
           },
           "yaxis": {
            "backgroundcolor": "#E5ECF6",
            "gridcolor": "white",
            "gridwidth": 2,
            "linecolor": "white",
            "showbackground": true,
            "ticks": "",
            "zerolinecolor": "white"
           },
           "zaxis": {
            "backgroundcolor": "#E5ECF6",
            "gridcolor": "white",
            "gridwidth": 2,
            "linecolor": "white",
            "showbackground": true,
            "ticks": "",
            "zerolinecolor": "white"
           }
          },
          "shapedefaults": {
           "line": {
            "color": "#2a3f5f"
           }
          },
          "ternary": {
           "aaxis": {
            "gridcolor": "white",
            "linecolor": "white",
            "ticks": ""
           },
           "baxis": {
            "gridcolor": "white",
            "linecolor": "white",
            "ticks": ""
           },
           "bgcolor": "#E5ECF6",
           "caxis": {
            "gridcolor": "white",
            "linecolor": "white",
            "ticks": ""
           }
          },
          "title": {
           "x": 0.05
          },
          "xaxis": {
           "automargin": true,
           "gridcolor": "white",
           "linecolor": "white",
           "ticks": "",
           "title": {
            "standoff": 15
           },
           "zerolinecolor": "white",
           "zerolinewidth": 2
          },
          "yaxis": {
           "automargin": true,
           "gridcolor": "white",
           "linecolor": "white",
           "ticks": "",
           "title": {
            "standoff": 15
           },
           "zerolinecolor": "white",
           "zerolinewidth": 2
          }
         }
        }
       }
      }
     },
     "metadata": {},
     "output_type": "display_data"
    }
   ],
   "source": [
    "labels = target_distrib.index\n",
    "values = list(target_distrib)\n",
    "\n",
    "fig = go.Figure(data=[go.Pie(labels=labels, values=values, textinfo='label+percent',\n",
    "                             insidetextorientation='radial'\n",
    "                            )])\n",
    "fig.show()"
   ]
  },
  {
   "attachments": {},
   "cell_type": "markdown",
   "metadata": {},
   "source": [
    "### Distribution of other categorical variables"
   ]
  },
  {
   "cell_type": "code",
   "execution_count": 24,
   "metadata": {},
   "outputs": [
    {
     "data": {
      "text/plain": [
       "tcp     8052\n",
       "icmp    4665\n",
       "udp      272\n",
       "Name: protocol_type, dtype: int64"
      ]
     },
     "execution_count": 24,
     "metadata": {},
     "output_type": "execute_result"
    }
   ],
   "source": [
    "input_df[\"protocol_type\"].value_counts()"
   ]
  },
  {
   "cell_type": "code",
   "execution_count": 25,
   "metadata": {},
   "outputs": [
    {
     "data": {
      "text/plain": [
       "eco_i        4663\n",
       "other        3400\n",
       "private      2592\n",
       "http         1971\n",
       "ftp_data       33\n",
       "             ... \n",
       "efs             1\n",
       "pop_3           1\n",
       "http_443        1\n",
       "http_2784       1\n",
       "iso_tsap        1\n",
       "Name: service, Length: 61, dtype: int64"
      ]
     },
     "execution_count": 25,
     "metadata": {},
     "output_type": "execute_result"
    }
   ],
   "source": [
    "input_df[\"service\"].value_counts() "
   ]
  },
  {
   "cell_type": "code",
   "execution_count": 26,
   "metadata": {},
   "outputs": [
    {
     "data": {
      "text/plain": [
       "SF        6925\n",
       "REJ       3831\n",
       "RSTR      1793\n",
       "S0         317\n",
       "RSTOS0      76\n",
       "RSTO        36\n",
       "OTH          5\n",
       "S2           4\n",
       "S1           2\n",
       "Name: flag, dtype: int64"
      ]
     },
     "execution_count": 26,
     "metadata": {},
     "output_type": "execute_result"
    }
   ],
   "source": [
    "input_df[\"flag\"].value_counts()  "
   ]
  },
  {
   "cell_type": "code",
   "execution_count": 27,
   "metadata": {},
   "outputs": [
    {
     "name": "stdout",
     "output_type": "stream",
     "text": [
      "1        1\n",
      "8664     1\n",
      "8654     1\n",
      "8655     1\n",
      "8656     1\n",
      "        ..\n",
      "4334     1\n",
      "4335     1\n",
      "4336     1\n",
      "4337     1\n",
      "12989    1\n",
      "Name: Id, Length: 12989, dtype: int64\n",
      "0     12710\n",
      "1       133\n",
      "6        32\n",
      "5        20\n",
      "25       12\n",
      "27       12\n",
      "2        10\n",
      "4         6\n",
      "10        5\n",
      "7         5\n",
      "21        4\n",
      "8         4\n",
      "13        3\n",
      "24        3\n",
      "15        3\n",
      "17        3\n",
      "28        3\n",
      "22        3\n",
      "3         3\n",
      "20        2\n",
      "29        2\n",
      "14        2\n",
      "23        2\n",
      "19        2\n",
      "9         1\n",
      "78        1\n",
      "12        1\n",
      "60        1\n",
      "11        1\n",
      "Name: duration, dtype: int64\n",
      "tcp     8052\n",
      "icmp    4665\n",
      "udp      272\n",
      "Name: protocol_type, dtype: int64\n",
      "eco_i        4663\n",
      "other        3400\n",
      "private      2592\n",
      "http         1971\n",
      "ftp_data       33\n",
      "             ... \n",
      "efs             1\n",
      "pop_3           1\n",
      "http_443        1\n",
      "http_2784       1\n",
      "iso_tsap        1\n",
      "Name: service, Length: 61, dtype: int64\n",
      "SF        6925\n",
      "REJ       3831\n",
      "RSTR      1793\n",
      "S0         317\n",
      "RSTOS0      76\n",
      "RSTO        36\n",
      "OTH          5\n",
      "S2           4\n",
      "S1           2\n",
      "Name: flag, dtype: int64\n",
      "0        6059\n",
      "8        4654\n",
      "54540    1372\n",
      "1         271\n",
      "6          22\n",
      "         ... \n",
      "250         1\n",
      "246         1\n",
      "160         1\n",
      "292         1\n",
      "349         1\n",
      "Name: src_bytes, Length: 179, dtype: int64\n",
      "0         10953\n",
      "8314       1365\n",
      "424          31\n",
      "15           23\n",
      "7300         18\n",
      "          ...  \n",
      "1377          1\n",
      "2611          1\n",
      "191273        1\n",
      "1273          1\n",
      "920           1\n",
      "Name: dst_bytes, Length: 260, dtype: int64\n",
      "0    12989\n",
      "Name: land, dtype: int64\n",
      "0    12989\n",
      "Name: wrong_fragment, dtype: int64\n",
      "0    12989\n",
      "Name: urgent, dtype: int64\n",
      "0    11586\n",
      "2     1361\n",
      "1       42\n",
      "Name: hot, dtype: int64\n",
      "0    12989\n",
      "Name: num_failed_logins, dtype: int64\n",
      "0    10993\n",
      "1     1996\n",
      "Name: logged_in, dtype: int64\n",
      "0    11626\n",
      "1     1363\n",
      "Name: num_compromised, dtype: int64\n",
      "0    12989\n",
      "Name: root_shell, dtype: int64\n",
      "0    12989\n",
      "Name: su_attempted, dtype: int64\n",
      "0    12987\n",
      "1        2\n",
      "Name: num_root, dtype: int64\n",
      "0    12989\n",
      "Name: num_file_creations, dtype: int64\n",
      "0    12988\n",
      "1        1\n",
      "Name: num_shells, dtype: int64\n",
      "0    12988\n",
      "1        1\n",
      "Name: num_access_files, dtype: int64\n",
      "0    12989\n",
      "Name: num_outbound_cmds, dtype: int64\n",
      "0    12989\n",
      "Name: is_host_login, dtype: int64\n",
      "0    12989\n",
      "Name: is_guest_login, dtype: int64\n",
      "1      7228\n",
      "511    1848\n",
      "509     766\n",
      "2       491\n",
      "4       379\n",
      "       ... \n",
      "178       1\n",
      "234       1\n",
      "108       1\n",
      "490       1\n",
      "286       1\n",
      "Name: count, Length: 425, dtype: int64\n",
      "1     6239\n",
      "2      657\n",
      "3      502\n",
      "4      442\n",
      "5      348\n",
      "6      249\n",
      "7      163\n",
      "8      137\n",
      "13     123\n",
      "11     121\n",
      "12     120\n",
      "10     120\n",
      "14     114\n",
      "9      112\n",
      "16     108\n",
      "19     107\n",
      "18     105\n",
      "15     101\n",
      "22     101\n",
      "35     101\n",
      "17      99\n",
      "21      99\n",
      "44      98\n",
      "47      98\n",
      "26      97\n",
      "20      95\n",
      "30      95\n",
      "24      95\n",
      "36      95\n",
      "50      94\n",
      "29      94\n",
      "28      94\n",
      "31      92\n",
      "23      92\n",
      "39      91\n",
      "33      91\n",
      "34      91\n",
      "42      91\n",
      "32      91\n",
      "25      91\n",
      "49      89\n",
      "41      89\n",
      "27      88\n",
      "52      88\n",
      "48      88\n",
      "43      88\n",
      "38      86\n",
      "46      85\n",
      "40      85\n",
      "51      84\n",
      "45      82\n",
      "37      82\n",
      "55       1\n",
      "0        1\n",
      "Name: srv_count, dtype: int64\n",
      "0.00    9403\n",
      "0.05     604\n",
      "0.08     534\n",
      "0.07     361\n",
      "0.06     322\n",
      "0.02     274\n",
      "0.04     242\n",
      "0.03     230\n",
      "0.01     217\n",
      "0.10     208\n",
      "0.09     203\n",
      "0.14      59\n",
      "0.11      54\n",
      "0.13      49\n",
      "0.12      45\n",
      "0.80      20\n",
      "0.79      16\n",
      "0.75      15\n",
      "0.64      13\n",
      "0.74      12\n",
      "0.65      10\n",
      "0.73      10\n",
      "0.68       9\n",
      "0.78       8\n",
      "0.70       8\n",
      "0.50       8\n",
      "0.63       7\n",
      "0.66       6\n",
      "0.81       5\n",
      "0.69       5\n",
      "0.67       5\n",
      "0.71       5\n",
      "0.77       5\n",
      "0.76       4\n",
      "0.72       3\n",
      "0.25       3\n",
      "0.17       2\n",
      "0.15       2\n",
      "0.20       2\n",
      "1.00       1\n",
      "Name: serror_rate, dtype: int64\n",
      "0.00    12594\n",
      "1.00      314\n",
      "0.50       48\n",
      "0.67       22\n",
      "0.25        3\n",
      "0.17        3\n",
      "0.20        2\n",
      "0.21        1\n",
      "0.10        1\n",
      "0.14        1\n",
      "Name: srv_serror_rate, dtype: int64\n",
      "0.00    6818\n",
      "1.00    2421\n",
      "0.95     538\n",
      "0.92     373\n",
      "0.94     315\n",
      "0.93     291\n",
      "0.90     286\n",
      "0.91     273\n",
      "0.97     248\n",
      "0.98     214\n",
      "0.96     211\n",
      "0.89     209\n",
      "0.99     168\n",
      "0.88     134\n",
      "0.87      76\n",
      "0.86      75\n",
      "0.25      59\n",
      "0.20      52\n",
      "0.50      37\n",
      "0.33      31\n",
      "0.21      16\n",
      "0.36      13\n",
      "0.17      13\n",
      "0.26      12\n",
      "0.27      10\n",
      "0.35      10\n",
      "0.32       9\n",
      "0.30       8\n",
      "0.22       8\n",
      "0.37       7\n",
      "0.34       6\n",
      "0.23       5\n",
      "0.31       5\n",
      "0.29       5\n",
      "0.19       5\n",
      "0.24       4\n",
      "0.40       4\n",
      "0.28       3\n",
      "0.85       3\n",
      "0.67       3\n",
      "0.83       2\n",
      "0.14       2\n",
      "0.82       1\n",
      "0.38       1\n",
      "0.75       1\n",
      "0.09       1\n",
      "0.44       1\n",
      "0.10       1\n",
      "0.43       1\n",
      "Name: rerror_rate, dtype: int64\n",
      "0.00    6879\n",
      "1.00    5631\n",
      "0.33     127\n",
      "0.50      98\n",
      "0.20      72\n",
      "0.25      72\n",
      "0.17      56\n",
      "0.40      15\n",
      "0.29      11\n",
      "0.14       9\n",
      "0.67       6\n",
      "0.75       3\n",
      "0.60       3\n",
      "0.79       1\n",
      "0.83       1\n",
      "0.90       1\n",
      "0.18       1\n",
      "0.86       1\n",
      "0.43       1\n",
      "0.08       1\n",
      "Name: srv_rerror_rate, dtype: int64\n",
      "1.00    9028\n",
      "0.00    3270\n",
      "0.01     224\n",
      "0.02      66\n",
      "0.03      46\n",
      "        ... \n",
      "0.57       1\n",
      "0.53       1\n",
      "0.79       1\n",
      "0.39       1\n",
      "0.64       1\n",
      "Name: same_srv_rate, Length: 75, dtype: int64\n",
      "0.00    9029\n",
      "1.00    3028\n",
      "0.96     222\n",
      "0.95     123\n",
      "0.99      51\n",
      "        ... \n",
      "0.80       1\n",
      "0.19       1\n",
      "0.59       1\n",
      "0.32       1\n",
      "0.35       1\n",
      "Name: diff_srv_rate, Length: 65, dtype: int64\n",
      "0.00    7949\n",
      "1.00    4598\n",
      "0.67      80\n",
      "0.40      66\n",
      "0.50      61\n",
      "0.33      59\n",
      "0.29      17\n",
      "0.12      16\n",
      "0.75      12\n",
      "0.11      10\n",
      "0.17      10\n",
      "0.06      10\n",
      "0.15       9\n",
      "0.10       8\n",
      "0.43       8\n",
      "0.60       8\n",
      "0.25       8\n",
      "0.14       8\n",
      "0.18       7\n",
      "0.20       7\n",
      "0.09       6\n",
      "0.13       5\n",
      "0.22       5\n",
      "0.05       4\n",
      "0.16       3\n",
      "0.07       3\n",
      "0.19       3\n",
      "0.23       2\n",
      "0.38       2\n",
      "0.21       2\n",
      "0.08       2\n",
      "0.27       1\n",
      "Name: srv_diff_host_rate, dtype: int64\n",
      "255    6571\n",
      "2      2361\n",
      "1      2354\n",
      "3        26\n",
      "4        26\n",
      "       ... \n",
      "249       1\n",
      "246       1\n",
      "238       1\n",
      "126       1\n",
      "175       1\n",
      "Name: dst_host_count, Length: 256, dtype: int64\n",
      "1      5477\n",
      "255    5040\n",
      "2       659\n",
      "3        67\n",
      "86       60\n",
      "       ... \n",
      "240       2\n",
      "175       2\n",
      "0         1\n",
      "198       1\n",
      "230       1\n",
      "Name: dst_host_srv_count, Length: 256, dtype: int64\n",
      "1.00    6627\n",
      "0.00    5229\n",
      "0.01     356\n",
      "0.02     279\n",
      "0.03     125\n",
      "0.04      80\n",
      "0.05      57\n",
      "0.06      36\n",
      "0.07      26\n",
      "0.08      25\n",
      "0.09      19\n",
      "0.33      14\n",
      "0.20      13\n",
      "0.14      12\n",
      "0.12      12\n",
      "0.25      11\n",
      "0.10      10\n",
      "0.50       9\n",
      "0.17       9\n",
      "0.11       9\n",
      "0.19       4\n",
      "0.13       4\n",
      "0.15       3\n",
      "0.22       3\n",
      "0.21       3\n",
      "0.18       3\n",
      "0.27       2\n",
      "0.23       2\n",
      "0.16       2\n",
      "0.62       1\n",
      "0.58       1\n",
      "0.29       1\n",
      "0.26       1\n",
      "0.81       1\n",
      "Name: dst_host_same_srv_rate, dtype: int64\n",
      "0.00    6628\n",
      "1.00    5057\n",
      "0.91     170\n",
      "0.22      50\n",
      "0.20      32\n",
      "        ... \n",
      "0.70       5\n",
      "0.90       4\n",
      "0.79       4\n",
      "0.01       4\n",
      "0.86       3\n",
      "Name: dst_host_diff_srv_rate, Length: 101, dtype: int64\n",
      "1.00    6151\n",
      "0.00    4512\n",
      "0.01     421\n",
      "0.02     378\n",
      "0.03     203\n",
      "        ... \n",
      "0.95       4\n",
      "0.97       4\n",
      "0.86       3\n",
      "0.99       3\n",
      "0.90       3\n",
      "Name: dst_host_same_src_port_rate, Length: 101, dtype: int64\n",
      "0.00    7311\n",
      "0.50    4273\n",
      "1.00     486\n",
      "0.51     258\n",
      "0.05     184\n",
      "0.04     179\n",
      "0.03      98\n",
      "0.52      50\n",
      "0.01      28\n",
      "0.06      25\n",
      "0.53      23\n",
      "0.02      16\n",
      "0.67      11\n",
      "0.54       9\n",
      "0.56       7\n",
      "0.55       6\n",
      "0.60       6\n",
      "0.57       5\n",
      "0.07       4\n",
      "0.29       2\n",
      "0.13       1\n",
      "0.40       1\n",
      "0.25       1\n",
      "0.08       1\n",
      "0.43       1\n",
      "0.38       1\n",
      "0.10       1\n",
      "0.33       1\n",
      "Name: dst_host_srv_diff_host_rate, dtype: int64\n",
      "0.00    9477\n",
      "0.05     482\n",
      "0.08     423\n",
      "0.01     351\n",
      "0.02     346\n",
      "0.03     297\n",
      "0.07     284\n",
      "0.04     259\n",
      "0.10     178\n",
      "0.11     142\n",
      "0.06     142\n",
      "0.09     135\n",
      "0.12     109\n",
      "0.14      93\n",
      "0.13      53\n",
      "0.15      47\n",
      "0.18      26\n",
      "0.17      11\n",
      "0.16       9\n",
      "0.55       6\n",
      "0.44       5\n",
      "0.45       5\n",
      "0.38       5\n",
      "0.53       4\n",
      "0.42       4\n",
      "0.33       4\n",
      "0.29       4\n",
      "0.25       4\n",
      "0.35       4\n",
      "0.22       4\n",
      "0.56       4\n",
      "0.51       4\n",
      "0.31       4\n",
      "0.43       3\n",
      "0.32       3\n",
      "0.39       3\n",
      "0.52       3\n",
      "0.50       3\n",
      "0.37       3\n",
      "0.30       3\n",
      "0.49       3\n",
      "0.46       3\n",
      "0.41       3\n",
      "0.40       3\n",
      "0.28       3\n",
      "0.24       3\n",
      "0.47       3\n",
      "0.36       3\n",
      "0.54       3\n",
      "0.48       2\n",
      "0.23       2\n",
      "0.27       2\n",
      "0.58       2\n",
      "0.26       2\n",
      "0.57       2\n",
      "0.34       1\n",
      "0.21       1\n",
      "0.19       1\n",
      "0.20       1\n",
      "Name: dst_host_serror_rate, dtype: int64\n",
      "0.00    12352\n",
      "1.00      313\n",
      "0.01      255\n",
      "0.50       41\n",
      "0.67       22\n",
      "0.07        1\n",
      "0.22        1\n",
      "0.18        1\n",
      "0.10        1\n",
      "0.04        1\n",
      "0.14        1\n",
      "Name: dst_host_srv_serror_rate, dtype: int64\n",
      "0.00    5388\n",
      "1.00    1600\n",
      "0.95     470\n",
      "0.05     434\n",
      "0.92     423\n",
      "        ... \n",
      "0.72       5\n",
      "0.79       5\n",
      "0.70       5\n",
      "0.68       4\n",
      "0.63       3\n",
      "Name: dst_host_rerror_rate, Length: 101, dtype: int64\n",
      "0.00    5916\n",
      "1.00    5598\n",
      "0.05     419\n",
      "0.04     403\n",
      "0.02     185\n",
      "0.03     168\n",
      "0.01     105\n",
      "0.06      91\n",
      "0.50      55\n",
      "0.33      23\n",
      "0.07       5\n",
      "0.67       2\n",
      "0.29       2\n",
      "0.11       2\n",
      "0.08       2\n",
      "0.09       2\n",
      "0.10       2\n",
      "0.78       1\n",
      "0.12       1\n",
      "0.82       1\n",
      "0.20       1\n",
      "0.90       1\n",
      "0.14       1\n",
      "0.93       1\n",
      "0.13       1\n",
      "0.86       1\n",
      "Name: dst_host_srv_rerror_rate, dtype: int64\n",
      "ipsweep.      5318\n",
      "satan.        3711\n",
      "portsweep.    1999\n",
      "back.         1400\n",
      "normal.        561\n",
      "Name: type_of_attack, dtype: int64\n"
     ]
    }
   ],
   "source": [
    "for col in input_df.columns:\n",
    "    print(input_df[col].value_counts())"
   ]
  },
  {
   "attachments": {},
   "cell_type": "markdown",
   "metadata": {},
   "source": [
    "### Checking for null values"
   ]
  },
  {
   "cell_type": "code",
   "execution_count": 28,
   "metadata": {},
   "outputs": [
    {
     "data": {
      "text/plain": [
       "Id                             0\n",
       "duration                       0\n",
       "protocol_type                  0\n",
       "service                        0\n",
       "flag                           0\n",
       "src_bytes                      0\n",
       "dst_bytes                      0\n",
       "land                           0\n",
       "wrong_fragment                 0\n",
       "urgent                         0\n",
       "hot                            0\n",
       "num_failed_logins              0\n",
       "logged_in                      0\n",
       "num_compromised                0\n",
       "root_shell                     0\n",
       "su_attempted                   0\n",
       "num_root                       0\n",
       "num_file_creations             0\n",
       "num_shells                     0\n",
       "num_access_files               0\n",
       "num_outbound_cmds              0\n",
       "is_host_login                  0\n",
       "is_guest_login                 0\n",
       "count                          0\n",
       "srv_count                      0\n",
       "serror_rate                    0\n",
       "srv_serror_rate                0\n",
       "rerror_rate                    0\n",
       "srv_rerror_rate                0\n",
       "same_srv_rate                  0\n",
       "diff_srv_rate                  0\n",
       "srv_diff_host_rate             0\n",
       "dst_host_count                 0\n",
       "dst_host_srv_count             0\n",
       "dst_host_same_srv_rate         0\n",
       "dst_host_diff_srv_rate         0\n",
       "dst_host_same_src_port_rate    0\n",
       "dst_host_srv_diff_host_rate    0\n",
       "dst_host_serror_rate           0\n",
       "dst_host_srv_serror_rate       0\n",
       "dst_host_rerror_rate           0\n",
       "dst_host_srv_rerror_rate       0\n",
       "type_of_attack                 0\n",
       "dtype: int64"
      ]
     },
     "execution_count": 28,
     "metadata": {},
     "output_type": "execute_result"
    }
   ],
   "source": [
    "input_df.isnull().sum()"
   ]
  },
  {
   "cell_type": "code",
   "execution_count": 29,
   "metadata": {},
   "outputs": [
    {
     "data": {
      "text/plain": [
       "Index(['Id', 'duration', 'protocol_type', 'service', 'flag', 'src_bytes',\n",
       "       'dst_bytes', 'land', 'wrong_fragment', 'urgent', 'hot',\n",
       "       'num_failed_logins', 'logged_in', 'num_compromised', 'root_shell',\n",
       "       'su_attempted', 'num_root', 'num_file_creations', 'num_shells',\n",
       "       'num_access_files', 'num_outbound_cmds', 'is_host_login',\n",
       "       'is_guest_login', 'count', 'srv_count', 'serror_rate',\n",
       "       'srv_serror_rate', 'rerror_rate', 'srv_rerror_rate', 'same_srv_rate',\n",
       "       'diff_srv_rate', 'srv_diff_host_rate', 'dst_host_count',\n",
       "       'dst_host_srv_count', 'dst_host_same_srv_rate',\n",
       "       'dst_host_diff_srv_rate', 'dst_host_same_src_port_rate',\n",
       "       'dst_host_srv_diff_host_rate', 'dst_host_serror_rate',\n",
       "       'dst_host_srv_serror_rate', 'dst_host_rerror_rate',\n",
       "       'dst_host_srv_rerror_rate', 'type_of_attack'],\n",
       "      dtype='object')"
      ]
     },
     "execution_count": 29,
     "metadata": {},
     "output_type": "execute_result"
    }
   ],
   "source": [
    "input_df.columns"
   ]
  },
  {
   "cell_type": "code",
   "execution_count": 32,
   "metadata": {},
   "outputs": [
    {
     "data": {
      "text/html": [
       "<div>\n",
       "<style scoped>\n",
       "    .dataframe tbody tr th:only-of-type {\n",
       "        vertical-align: middle;\n",
       "    }\n",
       "\n",
       "    .dataframe tbody tr th {\n",
       "        vertical-align: top;\n",
       "    }\n",
       "\n",
       "    .dataframe thead th {\n",
       "        text-align: right;\n",
       "    }\n",
       "</style>\n",
       "<table border=\"1\" class=\"dataframe\">\n",
       "  <thead>\n",
       "    <tr style=\"text-align: right;\">\n",
       "      <th>type_of_attack</th>\n",
       "      <th>back.</th>\n",
       "      <th>ipsweep.</th>\n",
       "      <th>normal.</th>\n",
       "      <th>portsweep.</th>\n",
       "      <th>satan.</th>\n",
       "    </tr>\n",
       "    <tr>\n",
       "      <th>protocol_type</th>\n",
       "      <th></th>\n",
       "      <th></th>\n",
       "      <th></th>\n",
       "      <th></th>\n",
       "      <th></th>\n",
       "    </tr>\n",
       "  </thead>\n",
       "  <tbody>\n",
       "    <tr>\n",
       "      <th>icmp</th>\n",
       "      <td>0</td>\n",
       "      <td>4654</td>\n",
       "      <td>0</td>\n",
       "      <td>0</td>\n",
       "      <td>11</td>\n",
       "    </tr>\n",
       "    <tr>\n",
       "      <th>tcp</th>\n",
       "      <td>1400</td>\n",
       "      <td>664</td>\n",
       "      <td>561</td>\n",
       "      <td>1999</td>\n",
       "      <td>3428</td>\n",
       "    </tr>\n",
       "    <tr>\n",
       "      <th>udp</th>\n",
       "      <td>0</td>\n",
       "      <td>0</td>\n",
       "      <td>0</td>\n",
       "      <td>0</td>\n",
       "      <td>272</td>\n",
       "    </tr>\n",
       "  </tbody>\n",
       "</table>\n",
       "</div>"
      ],
      "text/plain": [
       "type_of_attack  back.  ipsweep.  normal.  portsweep.  satan.\n",
       "protocol_type                                               \n",
       "icmp                0      4654        0           0      11\n",
       "tcp              1400       664      561        1999    3428\n",
       "udp                 0         0        0           0     272"
      ]
     },
     "execution_count": 32,
     "metadata": {},
     "output_type": "execute_result"
    }
   ],
   "source": [
    "distrib = pd.crosstab(input_df['protocol_type'], input_df['type_of_attack'])\n",
    "distrib"
   ]
  },
  {
   "cell_type": "code",
   "execution_count": 33,
   "metadata": {},
   "outputs": [
    {
     "data": {
      "text/plain": [
       "(CategoricalIndex(['icmp', 'tcp', 'udp'], categories=['icmp', 'tcp', 'udp'], ordered=False, dtype='category', name='protocol_type'),\n",
       " array([[   0, 4654,    0,    0,   11],\n",
       "        [1400,  664,  561, 1999, 3428],\n",
       "        [   0,    0,    0,    0,  272]]))"
      ]
     },
     "execution_count": 33,
     "metadata": {},
     "output_type": "execute_result"
    }
   ],
   "source": [
    "distrib.index, distrib.values"
   ]
  },
  {
   "attachments": {},
   "cell_type": "markdown",
   "metadata": {},
   "source": [
    "## Data pre processing"
   ]
  },
  {
   "attachments": {},
   "cell_type": "markdown",
   "metadata": {},
   "source": [
    "Dropping the Id columns"
   ]
  },
  {
   "cell_type": "code",
   "execution_count": 7,
   "metadata": {},
   "outputs": [],
   "source": [
    "input_df.drop(columns=['Id'], inplace=True)\n",
    "X_test.drop(columns=['Id'], inplace=True)"
   ]
  },
  {
   "cell_type": "code",
   "execution_count": 8,
   "metadata": {},
   "outputs": [],
   "source": [
    "X = input_df.drop(columns=[\"type_of_attack\"])\n",
    "Y = input_df[\"type_of_attack\"]"
   ]
  },
  {
   "cell_type": "code",
   "execution_count": 9,
   "metadata": {},
   "outputs": [],
   "source": [
    "#Converting object dtypes to category\n",
    "cat_attr=X.select_dtypes(include ='object').columns\n",
    "X[cat_attr] = X[cat_attr].astype('category')"
   ]
  },
  {
   "cell_type": "code",
   "execution_count": 10,
   "metadata": {},
   "outputs": [],
   "source": [
    "#Applying one hot encoding on the categorical attributes\n",
    "X = pd.get_dummies(columns=cat_attr, data = X, prefix=cat_attr, prefix_sep=\"_\", drop_first=True)"
   ]
  },
  {
   "cell_type": "code",
   "execution_count": 11,
   "metadata": {},
   "outputs": [],
   "source": [
    "X_test = pd.get_dummies(columns=cat_attr, data = X_test, prefix=cat_attr, prefix_sep=\"_\", drop_first=True) "
   ]
  },
  {
   "cell_type": "code",
   "execution_count": 12,
   "metadata": {},
   "outputs": [
    {
     "name": "stdout",
     "output_type": "stream",
     "text": [
      "13\n"
     ]
    }
   ],
   "source": [
    "# Checking for mismatching columns\n",
    "test_cols = set(X_test.columns)\n",
    "train_cols = set(X.columns)\n",
    "\n",
    "missing_cols_train = train_cols - test_cols\n",
    "\n",
    "print(len(missing_cols_train))\n",
    "\n",
    "for col in missing_cols_train:\n",
    "    X_test[col] = 0\n",
    "\n",
    "\n",
    "# To maintain consistency in the order of columns\n",
    "X_test = X_test[X.columns]"
   ]
  },
  {
   "attachments": {},
   "cell_type": "markdown",
   "metadata": {},
   "source": [
    "Dropping zero variance and constant values categorical columns"
   ]
  },
  {
   "cell_type": "code",
   "execution_count": 13,
   "metadata": {},
   "outputs": [
    {
     "name": "stdout",
     "output_type": "stream",
     "text": [
      "Number of numerical columns before zero variance thresholding: 108\n",
      "Number of numerical columns after zero variance thresholding: 27\n"
     ]
    }
   ],
   "source": [
    "print(\"Number of numerical columns before zero variance thresholding: {}\".format(len(X.columns)))\n",
    "\n",
    "# Applying variance thresholding on the numerical columns\n",
    "selector = VarianceThreshold(0.1)\n",
    "filtered_data = selector.fit_transform(X)\n",
    "\n",
    "# Get selected numerical column names\n",
    "selected_numerical_cols = X.columns[selector.get_support()]\n",
    "# Create dataframe with selected numerical columns\n",
    "X = pd.DataFrame(filtered_data, columns=selected_numerical_cols)\n",
    "print(\"Number of numerical columns after zero variance thresholding: {}\".format(len(selected_numerical_cols)))"
   ]
  },
  {
   "cell_type": "code",
   "execution_count": 14,
   "metadata": {},
   "outputs": [],
   "source": [
    "X_test = X_test[selected_numerical_cols]"
   ]
  },
  {
   "attachments": {},
   "cell_type": "markdown",
   "metadata": {},
   "source": [
    "Final shape after dropping the columns"
   ]
  },
  {
   "cell_type": "code",
   "execution_count": 15,
   "metadata": {},
   "outputs": [
    {
     "data": {
      "text/plain": [
       "(12989, 27)"
      ]
     },
     "execution_count": 15,
     "metadata": {},
     "output_type": "execute_result"
    }
   ],
   "source": [
    "X.shape"
   ]
  },
  {
   "cell_type": "code",
   "execution_count": 16,
   "metadata": {},
   "outputs": [
    {
     "data": {
      "text/plain": [
       "(5567, 27)"
      ]
     },
     "execution_count": 16,
     "metadata": {},
     "output_type": "execute_result"
    }
   ],
   "source": [
    "X_test.shape"
   ]
  },
  {
   "cell_type": "code",
   "execution_count": 17,
   "metadata": {},
   "outputs": [],
   "source": [
    "#Label encoding target variable\n",
    "from sklearn.preprocessing import LabelEncoder\n",
    "\n",
    "le = LabelEncoder()\n",
    "le.fit(Y)\n",
    "Y = le.transform(Y)"
   ]
  },
  {
   "cell_type": "code",
   "execution_count": 18,
   "metadata": {},
   "outputs": [],
   "source": [
    "X_train, X_val, y_train, y_val = train_test_split(X, Y, test_size=0.3, random_state=42, stratify=Y)"
   ]
  },
  {
   "cell_type": "code",
   "execution_count": 19,
   "metadata": {},
   "outputs": [
    {
     "data": {
      "text/plain": [
       "((9092, 27), (3897, 27))"
      ]
     },
     "execution_count": 19,
     "metadata": {},
     "output_type": "execute_result"
    }
   ],
   "source": [
    "X_train.shape, X_val.shape"
   ]
  },
  {
   "attachments": {},
   "cell_type": "markdown",
   "metadata": {},
   "source": [
    "## Machine learning models"
   ]
  },
  {
   "attachments": {},
   "cell_type": "markdown",
   "metadata": {},
   "source": [
    "### Machine learning models util"
   ]
  },
  {
   "cell_type": "code",
   "execution_count": 18,
   "metadata": {},
   "outputs": [],
   "source": [
    "def perform_grid_search(model, param_grid, cv=5):\n",
    "    # Perform grid search with cross-validation\n",
    "    grid_search = GridSearchCV(model, param_grid, cv=cv)\n",
    "    grid_search.fit(X_train, y_train)\n",
    "\n",
    "    # Get the best model and its hyperparameters\n",
    "    best_model = grid_search.best_estimator_\n",
    "    best_params = grid_search.best_params_\n",
    "\n",
    "    return best_model, best_params"
   ]
  },
  {
   "cell_type": "code",
   "execution_count": 19,
   "metadata": {},
   "outputs": [],
   "source": [
    "def classification_report_on_train_and_val(model, X_train, y_train, X_val, y_val, X_test):\n",
    "    y_train_pred = model.predict(X_train)\n",
    "    y_val_pred = model.predict(X_val)\n",
    "    y_test_pred = model.predict(X_test)\n",
    "\n",
    "    print(\"Classification report on train dataset: \")\n",
    "    print(classification_report(y_train, y_train_pred, target_names=[\"ipsweep.\",\"satan.\", \"portsweep.\", \"back.\", \"normal.\"]))\n",
    "    print(\"Classification report on validation dataset: \")\n",
    "    print(classification_report(y_val, y_val_pred, target_names=[\"ipsweep.\",\"satan.\", \"portsweep.\", \"back.\", \"normal.\"]))\n",
    "    return y_test_pred"
   ]
  },
  {
   "attachments": {},
   "cell_type": "markdown",
   "metadata": {},
   "source": [
    "### Logistic Regression"
   ]
  },
  {
   "cell_type": "code",
   "execution_count": 20,
   "metadata": {},
   "outputs": [
    {
     "name": "stdout",
     "output_type": "stream",
     "text": [
      "{'C': 1.0, 'penalty': 'l1'}\n",
      "Classification report on train dataset: \n",
      "              precision    recall  f1-score   support\n",
      "\n",
      "    ipsweep.       1.00      1.00      1.00       980\n",
      "      satan.       1.00      1.00      1.00      3722\n",
      "  portsweep.       1.00      1.00      1.00       393\n",
      "       back.       1.00      1.00      1.00      1399\n",
      "     normal.       1.00      1.00      1.00      2598\n",
      "\n",
      "    accuracy                           1.00      9092\n",
      "   macro avg       1.00      1.00      1.00      9092\n",
      "weighted avg       1.00      1.00      1.00      9092\n",
      "\n",
      "Classification report on validation dataset: \n",
      "              precision    recall  f1-score   support\n",
      "\n",
      "    ipsweep.       1.00      1.00      1.00       420\n",
      "      satan.       1.00      1.00      1.00      1596\n",
      "  portsweep.       0.99      1.00      1.00       168\n",
      "       back.       1.00      1.00      1.00       600\n",
      "     normal.       1.00      1.00      1.00      1113\n",
      "\n",
      "    accuracy                           1.00      3897\n",
      "   macro avg       1.00      1.00      1.00      3897\n",
      "weighted avg       1.00      1.00      1.00      3897\n",
      "\n"
     ]
    }
   ],
   "source": [
    "# Define the Logistic Regression model\n",
    "model = LogisticRegression(random_state=0, class_weight='balanced', multi_class='ovr', solver='liblinear')\n",
    "\n",
    "# Define the hyperparameter grid to search over\n",
    "param_grid = {\n",
    "    'penalty': ['l1', 'l2'],\n",
    "    'C': [0.1, 1.0, 10.0]\n",
    "}\n",
    "\n",
    "best_model, best_params = perform_grid_search(model, param_grid)\n",
    "print(best_params)\n",
    "y_pred_LR = classification_report_on_train_and_val(best_model, X_train, y_train, X_val, y_val, X_test)"
   ]
  },
  {
   "attachments": {},
   "cell_type": "markdown",
   "metadata": {},
   "source": [
    "### SVM Classifier"
   ]
  },
  {
   "cell_type": "code",
   "execution_count": 21,
   "metadata": {},
   "outputs": [
    {
     "name": "stdout",
     "output_type": "stream",
     "text": [
      "{'C': 1, 'kernel': 'linear'}\n",
      "Classification report on train dataset: \n",
      "              precision    recall  f1-score   support\n",
      "\n",
      "    ipsweep.       1.00      1.00      1.00       980\n",
      "      satan.       1.00      1.00      1.00      3722\n",
      "  portsweep.       1.00      1.00      1.00       393\n",
      "       back.       1.00      1.00      1.00      1399\n",
      "     normal.       1.00      1.00      1.00      2598\n",
      "\n",
      "    accuracy                           1.00      9092\n",
      "   macro avg       1.00      1.00      1.00      9092\n",
      "weighted avg       1.00      1.00      1.00      9092\n",
      "\n",
      "Classification report on validation dataset: \n",
      "              precision    recall  f1-score   support\n",
      "\n",
      "    ipsweep.       1.00      1.00      1.00       420\n",
      "      satan.       1.00      1.00      1.00      1596\n",
      "  portsweep.       1.00      1.00      1.00       168\n",
      "       back.       1.00      1.00      1.00       600\n",
      "     normal.       1.00      1.00      1.00      1113\n",
      "\n",
      "    accuracy                           1.00      3897\n",
      "   macro avg       1.00      1.00      1.00      3897\n",
      "weighted avg       1.00      1.00      1.00      3897\n",
      "\n"
     ]
    }
   ],
   "source": [
    "svm_model = SVC(class_weight='balanced')\n",
    "param_grid = {'C': [0.1, 1, 10], 'kernel': ['linear', 'rbf', 'sigmoid']}\n",
    "\n",
    "best_model, best_params = perform_grid_search(svm_model, param_grid)\n",
    "print(best_params)\n",
    "y_pred_SVC = classification_report_on_train_and_val(best_model, X_train, y_train, X_val, y_val, X_test)"
   ]
  },
  {
   "attachments": {},
   "cell_type": "markdown",
   "metadata": {},
   "source": [
    "### Decision Tree Classifier"
   ]
  },
  {
   "cell_type": "code",
   "execution_count": 22,
   "metadata": {},
   "outputs": [
    {
     "name": "stdout",
     "output_type": "stream",
     "text": [
      "{'criterion': 'gini', 'max_depth': 5}\n",
      "Classification report on train dataset: \n",
      "              precision    recall  f1-score   support\n",
      "\n",
      "    ipsweep.       1.00      1.00      1.00       980\n",
      "      satan.       1.00      1.00      1.00      3722\n",
      "  portsweep.       1.00      1.00      1.00       393\n",
      "       back.       0.99      1.00      1.00      1399\n",
      "     normal.       1.00      1.00      1.00      2598\n",
      "\n",
      "    accuracy                           1.00      9092\n",
      "   macro avg       1.00      1.00      1.00      9092\n",
      "weighted avg       1.00      1.00      1.00      9092\n",
      "\n",
      "Classification report on validation dataset: \n",
      "              precision    recall  f1-score   support\n",
      "\n",
      "    ipsweep.       1.00      1.00      1.00       420\n",
      "      satan.       1.00      1.00      1.00      1596\n",
      "  portsweep.       1.00      1.00      1.00       168\n",
      "       back.       1.00      1.00      1.00       600\n",
      "     normal.       1.00      1.00      1.00      1113\n",
      "\n",
      "    accuracy                           1.00      3897\n",
      "   macro avg       1.00      1.00      1.00      3897\n",
      "weighted avg       1.00      1.00      1.00      3897\n",
      "\n"
     ]
    }
   ],
   "source": [
    "tree_model = DecisionTreeClassifier(class_weight='balanced')\n",
    "param_grid = {'max_depth': [None, 5, 10], 'criterion': ['gini', 'entropy']}\n",
    "\n",
    "best_model, best_params = perform_grid_search(tree_model, param_grid)\n",
    "print(best_params)\n",
    "y_pred_dt = classification_report_on_train_and_val(best_model, X_train, y_train, X_val, y_val, X_test)"
   ]
  },
  {
   "attachments": {},
   "cell_type": "markdown",
   "metadata": {},
   "source": [
    "### Random Forest Classifier"
   ]
  },
  {
   "cell_type": "code",
   "execution_count": 23,
   "metadata": {},
   "outputs": [
    {
     "name": "stdout",
     "output_type": "stream",
     "text": [
      "{'max_depth': None, 'n_estimators': 100}\n",
      "Classification report on train dataset: \n",
      "              precision    recall  f1-score   support\n",
      "\n",
      "    ipsweep.       1.00      1.00      1.00       980\n",
      "      satan.       1.00      1.00      1.00      3722\n",
      "  portsweep.       1.00      1.00      1.00       393\n",
      "       back.       1.00      1.00      1.00      1399\n",
      "     normal.       1.00      1.00      1.00      2598\n",
      "\n",
      "    accuracy                           1.00      9092\n",
      "   macro avg       1.00      1.00      1.00      9092\n",
      "weighted avg       1.00      1.00      1.00      9092\n",
      "\n",
      "Classification report on validation dataset: \n",
      "              precision    recall  f1-score   support\n",
      "\n",
      "    ipsweep.       1.00      1.00      1.00       420\n",
      "      satan.       1.00      1.00      1.00      1596\n",
      "  portsweep.       1.00      1.00      1.00       168\n",
      "       back.       1.00      1.00      1.00       600\n",
      "     normal.       1.00      1.00      1.00      1113\n",
      "\n",
      "    accuracy                           1.00      3897\n",
      "   macro avg       1.00      1.00      1.00      3897\n",
      "weighted avg       1.00      1.00      1.00      3897\n",
      "\n"
     ]
    }
   ],
   "source": [
    "rf_model = RandomForestClassifier(oob_score=True, class_weight='balanced')\n",
    "param_grid = {'n_estimators': [100, 200, 300], 'max_depth': [None, 5, 10]}\n",
    "\n",
    "best_model, best_params = perform_grid_search(rf_model, param_grid)\n",
    "print(best_params)\n",
    "y_pred_rf = classification_report_on_train_and_val(best_model, X_train, y_train, X_val, y_val, X_test)"
   ]
  },
  {
   "cell_type": "code",
   "execution_count": 44,
   "metadata": {},
   "outputs": [
    {
     "data": {
      "text/plain": [
       "(3897, 5)"
      ]
     },
     "execution_count": 44,
     "metadata": {},
     "output_type": "execute_result"
    }
   ],
   "source": [
    "y_pred = best_model.predict_proba(X_val)\n",
    "y_pred.shape"
   ]
  },
  {
   "cell_type": "code",
   "execution_count": 45,
   "metadata": {},
   "outputs": [
    {
     "data": {
      "text/plain": [
       "0.9999998502545673"
      ]
     },
     "execution_count": 45,
     "metadata": {},
     "output_type": "execute_result"
    }
   ],
   "source": [
    "from sklearn.metrics import roc_auc_score\n",
    "roc_auc_score(y_val,y_pred,multi_class='ovo')"
   ]
  },
  {
   "cell_type": "code",
   "execution_count": 24,
   "metadata": {},
   "outputs": [
    {
     "data": {
      "text/plain": [
       "0.9997800263968324"
      ]
     },
     "execution_count": 24,
     "metadata": {},
     "output_type": "execute_result"
    }
   ],
   "source": [
    "# Out of bag accuracy\n",
    "best_model.oob_score_"
   ]
  },
  {
   "attachments": {},
   "cell_type": "markdown",
   "metadata": {},
   "source": [
    "### XGBoost Classifier"
   ]
  },
  {
   "cell_type": "code",
   "execution_count": 27,
   "metadata": {},
   "outputs": [
    {
     "name": "stdout",
     "output_type": "stream",
     "text": [
      "{'learning_rate': 0.1, 'max_depth': 3}\n",
      "Classification report on train dataset: \n",
      "              precision    recall  f1-score   support\n",
      "\n",
      "    ipsweep.       1.00      1.00      1.00       980\n",
      "      satan.       1.00      1.00      1.00      3722\n",
      "  portsweep.       1.00      1.00      1.00       393\n",
      "       back.       1.00      1.00      1.00      1399\n",
      "     normal.       1.00      1.00      1.00      2598\n",
      "\n",
      "    accuracy                           1.00      9092\n",
      "   macro avg       1.00      1.00      1.00      9092\n",
      "weighted avg       1.00      1.00      1.00      9092\n",
      "\n",
      "Classification report on validation dataset: \n",
      "              precision    recall  f1-score   support\n",
      "\n",
      "    ipsweep.       1.00      1.00      1.00       420\n",
      "      satan.       1.00      1.00      1.00      1596\n",
      "  portsweep.       1.00      1.00      1.00       168\n",
      "       back.       1.00      1.00      1.00       600\n",
      "     normal.       1.00      1.00      1.00      1113\n",
      "\n",
      "    accuracy                           1.00      3897\n",
      "   macro avg       1.00      1.00      1.00      3897\n",
      "weighted avg       1.00      1.00      1.00      3897\n",
      "\n"
     ]
    }
   ],
   "source": [
    "xgb_model = xgb.XGBClassifier()\n",
    "param_grid = {'max_depth': [3, 5, 7], 'learning_rate': [0.1, 0.01, 0.001]}\n",
    "\n",
    "best_model, best_params = perform_grid_search(xgb_model, param_grid)\n",
    "print(best_params)\n",
    "y_pred_xgb = classification_report_on_train_and_val(best_model, X_train, y_train, X_val, y_val, X_test)"
   ]
  },
  {
   "attachments": {},
   "cell_type": "markdown",
   "metadata": {},
   "source": [
    "### KNN Classifier"
   ]
  },
  {
   "cell_type": "code",
   "execution_count": 26,
   "metadata": {},
   "outputs": [
    {
     "name": "stdout",
     "output_type": "stream",
     "text": [
      "{'n_neighbors': 3, 'weights': 'distance'}\n",
      "Classification report on train dataset: \n",
      "              precision    recall  f1-score   support\n",
      "\n",
      "    ipsweep.       1.00      1.00      1.00       980\n",
      "      satan.       1.00      1.00      1.00      3722\n",
      "  portsweep.       1.00      1.00      1.00       393\n",
      "       back.       1.00      1.00      1.00      1399\n",
      "     normal.       1.00      1.00      1.00      2598\n",
      "\n",
      "    accuracy                           1.00      9092\n",
      "   macro avg       1.00      1.00      1.00      9092\n",
      "weighted avg       1.00      1.00      1.00      9092\n",
      "\n",
      "Classification report on validation dataset: \n",
      "              precision    recall  f1-score   support\n",
      "\n",
      "    ipsweep.       1.00      1.00      1.00       420\n",
      "      satan.       1.00      1.00      1.00      1596\n",
      "  portsweep.       0.99      1.00      0.99       168\n",
      "       back.       0.98      0.96      0.97       600\n",
      "     normal.       0.98      0.99      0.99      1113\n",
      "\n",
      "    accuracy                           0.99      3897\n",
      "   macro avg       0.99      0.99      0.99      3897\n",
      "weighted avg       0.99      0.99      0.99      3897\n",
      "\n"
     ]
    }
   ],
   "source": [
    "knn_model = KNeighborsClassifier()\n",
    "param_grid = {'n_neighbors': [3, 5, 7], 'weights': ['uniform', 'distance']}\n",
    "\n",
    "best_model, best_params = perform_grid_search(knn_model, param_grid)\n",
    "print(best_params)\n",
    "y_pred_knn = classification_report_on_train_and_val(best_model, X_train, y_train, X_val, y_val, X_test)"
   ]
  },
  {
   "attachments": {},
   "cell_type": "markdown",
   "metadata": {},
   "source": [
    "### Building an Artificial Neural Network"
   ]
  },
  {
   "cell_type": "code",
   "execution_count": 36,
   "metadata": {},
   "outputs": [
    {
     "name": "stdout",
     "output_type": "stream",
     "text": [
      "Model: \"sequential_2\"\n",
      "_________________________________________________________________\n",
      " Layer (type)                Output Shape              Param #   \n",
      "=================================================================\n",
      " dense_3 (Dense)             (None, 32)                896       \n",
      "                                                                 \n",
      " dense_4 (Dense)             (None, 16)                528       \n",
      "                                                                 \n",
      " dense_5 (Dense)             (None, 5)                 85        \n",
      "                                                                 \n",
      "=================================================================\n",
      "Total params: 1,509\n",
      "Trainable params: 1,509\n",
      "Non-trainable params: 0\n",
      "_________________________________________________________________\n",
      "None\n"
     ]
    }
   ],
   "source": [
    "model = Sequential()\n",
    "model.add(Dense(32, activation='relu', input_shape=(X_train.shape[1],)))\n",
    "model.add(Dense(16, activation='relu'))\n",
    "model.add(Dense(5, activation='softmax'))\n",
    "\n",
    "print(model.summary())"
   ]
  },
  {
   "cell_type": "code",
   "execution_count": 37,
   "metadata": {},
   "outputs": [],
   "source": [
    "# Compile the model\n",
    "model.compile(optimizer='adam', loss='sparse_categorical_crossentropy', metrics=['accuracy'])"
   ]
  },
  {
   "cell_type": "code",
   "execution_count": 38,
   "metadata": {},
   "outputs": [
    {
     "name": "stdout",
     "output_type": "stream",
     "text": [
      "Epoch 1/15\n",
      "285/285 [==============================] - 1s 1ms/step - loss: 30.1595 - accuracy: 0.8211 - val_loss: 0.2827 - val_accuracy: 0.9307\n",
      "Epoch 2/15\n",
      "285/285 [==============================] - 0s 543us/step - loss: 0.1577 - accuracy: 0.9579 - val_loss: 0.1469 - val_accuracy: 0.9674\n",
      "Epoch 3/15\n",
      "285/285 [==============================] - 0s 537us/step - loss: 0.1158 - accuracy: 0.9743 - val_loss: 0.1093 - val_accuracy: 0.9743\n",
      "Epoch 4/15\n",
      "285/285 [==============================] - 0s 545us/step - loss: 0.0667 - accuracy: 0.9816 - val_loss: 0.0899 - val_accuracy: 0.9746\n",
      "Epoch 5/15\n",
      "285/285 [==============================] - 0s 544us/step - loss: 0.0508 - accuracy: 0.9853 - val_loss: 0.0530 - val_accuracy: 0.9879\n",
      "Epoch 6/15\n",
      "285/285 [==============================] - 0s 547us/step - loss: 0.0389 - accuracy: 0.9889 - val_loss: 0.0403 - val_accuracy: 0.9938\n",
      "Epoch 7/15\n",
      "285/285 [==============================] - 0s 539us/step - loss: 0.1001 - accuracy: 0.9856 - val_loss: 0.0994 - val_accuracy: 0.9902\n",
      "Epoch 8/15\n",
      "285/285 [==============================] - 0s 538us/step - loss: 0.0613 - accuracy: 0.9919 - val_loss: 0.0801 - val_accuracy: 0.9910\n",
      "Epoch 9/15\n",
      "285/285 [==============================] - 0s 541us/step - loss: 0.0502 - accuracy: 0.9919 - val_loss: 0.0641 - val_accuracy: 0.9933\n",
      "Epoch 10/15\n",
      "285/285 [==============================] - 0s 576us/step - loss: 0.0418 - accuracy: 0.9923 - val_loss: 0.0490 - val_accuracy: 0.9964\n",
      "Epoch 11/15\n",
      "285/285 [==============================] - 0s 538us/step - loss: 0.0323 - accuracy: 0.9944 - val_loss: 0.0366 - val_accuracy: 0.9969\n",
      "Epoch 12/15\n",
      "285/285 [==============================] - 0s 539us/step - loss: 0.0272 - accuracy: 0.9953 - val_loss: 0.0315 - val_accuracy: 0.9944\n",
      "Epoch 13/15\n",
      "285/285 [==============================] - 0s 536us/step - loss: 0.0274 - accuracy: 0.9923 - val_loss: 0.0352 - val_accuracy: 0.9918\n",
      "Epoch 14/15\n",
      "285/285 [==============================] - 0s 622us/step - loss: 0.0213 - accuracy: 0.9942 - val_loss: 0.0437 - val_accuracy: 0.9800\n",
      "Epoch 15/15\n",
      "285/285 [==============================] - 0s 565us/step - loss: 0.0185 - accuracy: 0.9948 - val_loss: 0.0306 - val_accuracy: 0.9877\n"
     ]
    }
   ],
   "source": [
    "# Train the model\n",
    "hist = model.fit(X_train, y_train, epochs=15, batch_size=32, validation_data=(X_val, y_val))"
   ]
  },
  {
   "attachments": {},
   "cell_type": "markdown",
   "metadata": {},
   "source": [
    "Plot Train vs validation graph"
   ]
  },
  {
   "cell_type": "code",
   "execution_count": 39,
   "metadata": {},
   "outputs": [
    {
     "data": {
      "image/png": "[encoded data removed]",
      "text/plain": [
       "<Figure size 640x480 with 1 Axes>"
      ]
     },
     "metadata": {},
     "output_type": "display_data"
    }
   ],
   "source": [
    "plt.plot(hist.history['accuracy'])\n",
    "plt.plot(hist.history['val_accuracy'])\n",
    "plt.title(\"Accuracy\")\n",
    "plt.xlabel('Epoch')\n",
    "plt.ylabel('Accuracy')\n",
    "plt.legend(['Train', 'Val'])\n",
    "plt.show()"
   ]
  },
  {
   "cell_type": "code",
   "execution_count": 40,
   "metadata": {},
   "outputs": [
    {
     "data": {
      "text/plain": [
       "[<matplotlib.lines.Line2D at 0x299d693a0>]"
      ]
     },
     "execution_count": 40,
     "metadata": {},
     "output_type": "execute_result"
    },
    {
     "data": {
      "image/png": "[encoded data removed]",
      "text/plain": [
       "<Figure size 640x480 with 1 Axes>"
      ]
     },
     "metadata": {},
     "output_type": "display_data"
    }
   ],
   "source": [
    "plt.title('Loss')\n",
    "plt.xlabel('Epoch')\n",
    "plt.ylabel('Loss')\n",
    "plt.legend(['Train', 'Val'])\n",
    "plt.plot(hist.history['loss'])\n",
    "plt.plot(hist.history['val_loss'])"
   ]
  },
  {
   "cell_type": "code",
   "execution_count": 41,
   "metadata": {},
   "outputs": [
    {
     "name": "stdout",
     "output_type": "stream",
     "text": [
      "285/285 [==============================] - 0s 350us/step - loss: 0.0295 - accuracy: 0.9859\n"
     ]
    },
    {
     "data": {
      "text/plain": [
       "0.029543643817305565"
      ]
     },
     "execution_count": 41,
     "metadata": {},
     "output_type": "execute_result"
    }
   ],
   "source": [
    "model.evaluate(X_train, y_train)[0]"
   ]
  }
 ],
 "metadata": {
  "kernelspec": {
   "display_name": "base",
   "language": "python",
   "name": "python3"
  },
  "language_info": {
   "codemirror_mode": {
    "name": "ipython",
    "version": 3
   },
   "file_extension": ".py",
   "mimetype": "text/x-python",
   "name": "python",
   "nbconvert_exporter": "python",
   "pygments_lexer": "ipython3",
   "version": "3.9.13"
  },
  "orig_nbformat": 4
 },
 "nbformat": 4,
 "nbformat_minor": 2
}
